{
 "cells": [
  {
   "cell_type": "markdown",
   "id": "53a62e33",
   "metadata": {},
   "source": [
    "# 본 노트의 목적\n",
    "강의에 앞서 미리 준비할 사항을 정리하였습니다"
   ]
  },
  {
   "cell_type": "markdown",
   "id": "3cafd474",
   "metadata": {},
   "source": [
    "# 코드 내려받기\n",
    "1. 본 강의 실습을 위한 폴더를 실습용 컴퓨터의 기억하기 좋은 적당한 곳에 생성합니다\n",
    "2. [강의용 코드 저장소](https://github.com/FifthSaint/NLP-tutoring)에서 코드를 내려받습니다(Code > Download ZIP)\n",
    "3. 1번의 폴더에 코드를 압축풀기 합니다"
   ]
  },
  {
   "cell_type": "markdown",
   "id": "1b79237e",
   "metadata": {},
   "source": [
    "# [KoNLPy](https://konlpy-ko.readthedocs.io/ko/latest/)\n",
    "파이썬 한국어 NLP의 대표적 Library <br>\n",
    "* [설치하기](https://konlpy-ko.readthedocs.io/ko/latest/install/)<br>\n",
    "    - 4번 Jpype 관련: 윈도우 커맨드(cmd)는 에러 발생할 수 있음. Anaconda Powershell Prompt(윈도 시작하기에서 찾음)를 실행하면 에러가 나지 않음<br>\n",
    "    - 실행할 때 우클릭하여 '관리자로 실행' 해 주어야 설치 가능\n",
    "    - 설치 명령 pip install {파일이름}(예: JPype1-1.3.0-cp39-cp39-win_amd64.whl) 실행 전에 다운 받은 파일을 커맨드 라인의 폴더로 옮겨 주어야 함\n",
    "    - 설치 뒤 컴퓨터 재부팅을 하는 것이 좋습니다"
   ]
  },
  {
   "cell_type": "code",
   "execution_count": null,
   "id": "dfab59c0",
   "metadata": {},
   "outputs": [],
   "source": []
  }
 ],
 "metadata": {
  "kernelspec": {
   "display_name": "Python 3 (ipykernel)",
   "language": "python",
   "name": "python3"
  },
  "language_info": {
   "codemirror_mode": {
    "name": "ipython",
    "version": 3
   },
   "file_extension": ".py",
   "mimetype": "text/x-python",
   "name": "python",
   "nbconvert_exporter": "python",
   "pygments_lexer": "ipython3",
   "version": "3.9.7"
  }
 },
 "nbformat": 4,
 "nbformat_minor": 5
}
