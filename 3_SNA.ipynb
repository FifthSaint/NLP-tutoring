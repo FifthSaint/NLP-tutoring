{
 "cells": [
  {
   "cell_type": "markdown",
   "metadata": {},
   "source": [
    "# 의미 연결망 분석 (Semenatic Network Analysis)\n"
   ]
  },
  {
   "cell_type": "markdown",
   "metadata": {},
   "source": [
    "## 연결망 분석(Network Analysis)\n",
    "[연결망 분석이란 무엇인가](https://towardsdatascience.com/network-analysis-d734cd7270f8)\n",
    "연결망(network)이란 사물 또는 사람 집단의 연결을 표현한 것을 말함  \n",
    "* 노드(node): 연결망에서 사물 또는 사람을 나타냄  \n",
    "* 엣지(edge): 노드 간의 연결을 표현. 엣지에는 방향성이 있을 수도 있고 없을 수도 있습니다.  \n",
    "* 연결망 분석을 하는 이유: 사물 또는 사람 사이 관계를 쉽게 이해함으로써 집단에 대한 유용한 통찰을 끌어낼 수 있음  \n",
    "* 활용 사례: 사회, 정치뿐 아니라 자연 현상이나 생물에 대한 연구 등 다양한 분야에서 쓰임\n",
    "    + 집단에서 가장 중요한 사람 찾아내기(정치 분야)\n",
    "    + 집단의 특징을 파악하기\n",
    "    + 특정 사람, 사물에게 필요한 요소를 찾아내기"
   ]
  },
  {
   "cell_type": "markdown",
   "metadata": {},
   "source": [
    "## 실습\n",
    "Python의 대표적인 연결망(Network)분석 라이브러리인 [NetworkX](https://networkx.org/documentation/stable/index.html) 활용.  \n",
    "[NetworkX Tutorial](https://networkx.org/documentation/stable/tutorial.html)  \n",
    "  \n",
    "본 코드는 [한림대학교 웹진 블로그](https://m.blog.naver.com/hallym_adpr/221614800313)의 예시 코드를 바탕으로 재구성.  "
   ]
  },
  {
   "cell_type": "code",
   "execution_count": null,
   "metadata": {},
   "outputs": [],
   "source": [
    "import re\n",
    "import networkx as nx #네트워크 분석을 위한 라이브러리. 아나콘다에 포함\n",
    "import pandas as pd"
   ]
  },
  {
   "cell_type": "markdown",
   "metadata": {},
   "source": [
    "## 데이터\n",
    "2_Word_Cloud에서 사용한 **빅카인즈** 데이터를 사용합니다."
   ]
  },
  {
   "cell_type": "code",
   "execution_count": null,
   "metadata": {},
   "outputs": [],
   "source": [
    "File='data\\\\NewsResult_20211126-20220226.xlsx' #다운로드 받은 자신의 실제 파일이름을 입력\n",
    "\n",
    "df = pd.read_excel(File)"
   ]
  },
  {
   "cell_type": "code",
   "execution_count": null,
   "metadata": {},
   "outputs": [],
   "source": [
    "df.head()"
   ]
  },
  {
   "cell_type": "code",
   "execution_count": null,
   "metadata": {},
   "outputs": [],
   "source": [
    "articles = df.get('제목')+\".\"+df.get('본문')\n",
    "dates = df.get('일자')"
   ]
  },
  {
   "cell_type": "code",
   "execution_count": null,
   "metadata": {},
   "outputs": [],
   "source": [
    "from konlpy.tag import Okt\n",
    "okt=Okt()\n",
    "\n",
    "stop_words = ['이', '것', '날', '등', '윤', '고', '전']"
   ]
  },
  {
   "cell_type": "code",
   "execution_count": null,
   "metadata": {},
   "outputs": [],
   "source": [
    "all_nouns = []\n",
    "for arti in articles:\n",
    "    for noun in okt.nouns(arti):\n",
    "        if noun not in stop_words:\n",
    "            all_nouns.append(noun)\n",
    "all_nouns[0:10]"
   ]
  },
  {
   "cell_type": "code",
   "execution_count": null,
   "metadata": {},
   "outputs": [],
   "source": [
    "from collections import Counter\n",
    "num_top_nouns = 20\n",
    "nouns_counter = Counter(all_nouns)\n",
    "top_nouns = dict(nouns_counter.most_common(num_top_nouns))"
   ]
  },
  {
   "cell_type": "code",
   "execution_count": null,
   "metadata": {},
   "outputs": [],
   "source": [
    "sentences = []\n",
    "for article in articles:\n",
    "    sentences.extend(re.split('; |\\.|\\?|\\!', article))\n",
    "sentences[:10]"
   ]
  },
  {
   "cell_type": "code",
   "execution_count": null,
   "metadata": {},
   "outputs": [],
   "source": [
    "sentences_nouns = []\n",
    "for sentence in sentences:\n",
    "    sent_nouns = okt.nouns(sentence)\n",
    "    sentences_nouns.append(sent_nouns)\n",
    "sentences_nouns[:10]"
   ]
  },
  {
   "cell_type": "code",
   "execution_count": null,
   "metadata": {},
   "outputs": [],
   "source": [
    "word2id = {w: i for i, w in enumerate(top_nouns.keys())}\n",
    "word2id"
   ]
  },
  {
   "cell_type": "code",
   "execution_count": null,
   "metadata": {},
   "outputs": [],
   "source": [
    "id2word = {i: w for i, w in enumerate(top_nouns.keys())}\n",
    "id2word"
   ]
  },
  {
   "cell_type": "code",
   "execution_count": null,
   "metadata": {},
   "outputs": [],
   "source": [
    "import numpy as np\n",
    "adjacent_matrix = np.zeros((num_top_nouns, num_top_nouns), int)\n",
    "for sent in sentences_nouns:\n",
    "    for wi, i in word2id.items():\n",
    "        if wi in sent:\n",
    "            for wj, j in word2id.items():\n",
    "                if i != j and wj in sent:\n",
    "                    adjacent_matrix[i][j] += 1\n",
    "adjacent_matrix"
   ]
  },
  {
   "cell_type": "code",
   "execution_count": null,
   "metadata": {},
   "outputs": [],
   "source": [
    "network = nx.from_numpy_matrix(adjacent_matrix)\n",
    "list(network.adjacency())"
   ]
  },
  {
   "cell_type": "markdown",
   "metadata": {},
   "source": [
    "## 시각화"
   ]
  },
  {
   "cell_type": "code",
   "execution_count": null,
   "metadata": {},
   "outputs": [],
   "source": [
    "import matplotlib.pyplot as plt\n",
    "from matplotlib import font_manager as fm\n",
    "from matplotlib import rc\n",
    "\n",
    "font_path=\"C:\\\\Windows\\\\Fonts\\\\malgun.TTF\" #실제 자신이 사용하고자 하는 폰트 파일 위치와 이름\n",
    "font_name = fm.FontProperties(fname=font_path).get_name()\n",
    "rc('font', family=font_name)\n",
    "\n",
    "fig = plt.figure()\n",
    "fig.set_size_inches(20, 20)\n",
    "ax = fig.add_subplot(1, 1, 1)\n",
    "ax.axis(\"off\")\n",
    "option = {\n",
    "    'node_color' : 'lightblue',\n",
    "    'node_size' : 2000,\n",
    "}\n",
    "nx.draw(network, labels=id2word, font_family=font_name, ax=ax, **option)"
   ]
  },
  {
   "cell_type": "markdown",
   "metadata": {},
   "source": [
    "### 다양한 레이아웃\n",
    "아래 4개 사례 외에도 더 많은 [레이아웃](https://networkx.org/documentation/stable/reference/drawing.html#module-networkx.drawing.layout)이 있음"
   ]
  },
  {
   "cell_type": "code",
   "execution_count": null,
   "metadata": {},
   "outputs": [],
   "source": [
    "fig = plt.figure()\n",
    "fig.set_size_inches(20, 20)\n",
    "option = {\n",
    "    'node_color' : 'lightblue',\n",
    "    'node_size' : 500\n",
    "}\n",
    "\n",
    "plt.subplot(221)\n",
    "plt.title('Random Layout', fontsize=20)\n",
    "nx.draw_random(network, labels=id2word, font_family=font_name, **option)\n",
    "plt.subplot(222)\n",
    "plt.title('Circular Layout', fontsize=20)\n",
    "nx.draw_circular(network, labels=id2word, font_family=font_name, **option)\n",
    "plt.subplot(223)\n",
    "plt.title('Spectral Layout',fontsize=20)\n",
    "nx.draw_spectral(network, labels=id2word, font_family=font_name, **option)\n",
    "plt.subplot(224)\n",
    "plt.title('Spring Layout',fontsize=20)\n",
    "nx.draw_spring(network, labels=id2word, font_family=font_name, **option)"
   ]
  },
  {
   "cell_type": "markdown",
   "metadata": {},
   "source": [
    "## 중심성 분석\n",
    "중심성은 각 노드가 얼마나 중요한지를 살피는 방법입니다.  \n",
    "다음과 같은 중심성 지표가 많이 쓰입니다."
   ]
  },
  {
   "cell_type": "code",
   "execution_count": null,
   "metadata": {},
   "outputs": [],
   "source": [
    "'''\n",
    "Degree Centrality 연결 중심성: \n",
    "가장 단순한 중심성입니다.\n",
    "해당 노드가 다른 노드와 얼마나 연결되어 있는지 봅니다.\n",
    "'''\n",
    "nx.degree_centrality(network)"
   ]
  },
  {
   "cell_type": "code",
   "execution_count": null,
   "metadata": {},
   "outputs": [],
   "source": [
    "'''\n",
    "Eigenvector Centralrity 고유벡터 중심성:\n",
    "노드와 많이 연결되어 있다고 해서 반드시 중요한 것은 아닙니다.\n",
    "유명 노드와 많이 연결되어 있을 때 더 중요하다고 볼 수도 있습니다.\n",
    "고유벡터 중심성은 연결된 다른 노드의 중심성을 감안해서 중심성을 계산합니다.\n",
    "'''\n",
    "\n",
    "nx.eigenvector_centrality(network, weight='weight')"
   ]
  },
  {
   "cell_type": "code",
   "execution_count": null,
   "metadata": {},
   "outputs": [],
   "source": [
    "'''\n",
    "Betweenness Centrality 매개 중심성:\n",
    "매개 중심성은 A 노드의 중심성을\n",
    "한 노드로부터 다른 노드로 최단 경로로 가고자 할 때 A를 얼마나 거쳐야 하는지로 계산하는 것입니다.\n",
    "현재 사례 경우 두 노드 간 엣지가 바로 정의되어 있으므로 모든 매개 중심성이 0인 것을 알 수 있습니다.\n",
    "'''\n",
    "nx.betweenness_centrality(network)"
   ]
  },
  {
   "cell_type": "code",
   "execution_count": null,
   "metadata": {},
   "outputs": [],
   "source": [
    "'''\n",
    "Closeness 근접 중심성:\n",
    "근접 중심성은 다른 도시까지 도달하는 거리가 짧을수록 중요할 것이라고 보고 산출한 지표입니다.\n",
    "A 도시로부터 전국 도시로 갈 때 거리가\n",
    "B 도시로부터 갈 때 보다 짧다면\n",
    "A가 B 보다 중요한 도시라는 것이죠.\n",
    "'''\n",
    "nx.closeness_centrality(network, distance='weight')"
   ]
  },
  {
   "cell_type": "code",
   "execution_count": null,
   "metadata": {},
   "outputs": [],
   "source": []
  }
 ],
 "metadata": {
  "kernelspec": {
   "display_name": "Python 3 (ipykernel)",
   "language": "python",
   "name": "python3"
  },
  "language_info": {
   "codemirror_mode": {
    "name": "ipython",
    "version": 3
   },
   "file_extension": ".py",
   "mimetype": "text/x-python",
   "name": "python",
   "nbconvert_exporter": "python",
   "pygments_lexer": "ipython3",
   "version": "3.9.7"
  }
 },
 "nbformat": 4,
 "nbformat_minor": 2
}
