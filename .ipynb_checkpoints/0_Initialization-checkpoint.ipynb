{
 "cells": [
  {
   "cell_type": "markdown",
   "id": "53a62e33",
   "metadata": {},
   "source": [
    "# 본 노트의 목적\n",
    "실습에 앞서 미리 준비해야 하는 사항을 정리"
   ]
  },
  {
   "cell_type": "markdown",
   "id": "3cafd474",
   "metadata": {},
   "source": [
    "# 코드 내려받기\n",
    "1. 본 강의 실습을 위한 폴더를 실습용 컴퓨터의 기억하기 좋은 적당한 곳에 생성합니다\n",
    "2. [강의용 코드 저장소](https://github.com/FifthSaint/NLP-tutoring)에서 코드를 내려받습니다(Code > Download ZIP)\n",
    "3. 1번의 폴더에 코드를 압축풀기 합니다"
   ]
  },
  {
   "cell_type": "markdown",
   "id": "1b79237e",
   "metadata": {},
   "source": [
    "# [KoNLPy](https://konlpy-ko.readthedocs.io/ko/latest/)\n",
    "파이썬 한국어 NLP의 대표적 Library <br>\n",
    "* [설치하기](https://konlpy-ko.readthedocs.io/ko/latest/install/)<br>\n",
    "    - 4번 Jpype 관련: 윈도우 커맨드(cmd)는 에러 발생할 수 있음. Anaconda Powershell Prompt(윈도 시작하기에서 찾음)를 실행하면 에러가 나지 않음<br>\n",
    "    - 실행할 때 우클릭하여 '관리자로 실행' 해 주어야 설치 가능\n",
    "    - 설치 명령 pip install {파일이름}(예: JPype1-1.3.0-cp39-cp39-win_amd64.whl) 실행 전에 다운 받은 파일을 커맨드 라인의 폴더로 옮겨 주어야 함\n",
    "    - 설치 뒤 컴퓨터 재부팅을 하는 것이 좋습니다"
   ]
  },
  {
   "cell_type": "markdown",
   "id": "7285922c",
   "metadata": {},
   "source": [
    "# [빅카인즈](https://www.bigkinds.or.kr/)\n",
    "일부 실습은 텍스트 데이터를 한국언론재단의 기사 데이터베이스, **빅카인즈**에서 내려 받아 사용합니다.<br>\n",
    "빅카인즈를 활용하면 전처리 수고를 덜 수 있습니다.<br>\n",
    "빅카인즈 데이터 다운로드를 위해선 회원가입을 해야 합니다(무료)."
   ]
  },
  {
   "cell_type": "markdown",
   "id": "80f78ab3",
   "metadata": {},
   "source": [
    "# 워드클라우드\n",
    "Python의 wordcloud 라이브러리를 설치하기 위해선  \n",
    "Microsoft Visual C++ 14.0 또는 그 이상의 버전이 실습 컴퓨터에 설치되어 있어야 합니다.    \n",
    "\"Microsoft C++ Build Tools\": https://visualstudio.microsoft.com/visual-cpp-build-tools/  에서 인스톨러를 받아 실행한 뒤  \n",
    "Visual Studio Build Tools 2019를 설치합니다.\n",
    "\n",
    "설치 완료 뒤 Anaconda Powershell Prompt를 관리자로 실행한 뒤  \n",
    "  \n",
    "**pip install wordcloud**  \n",
    "  \n",
    "입력합니다.\n",
    "  "
   ]
  },
  {
   "cell_type": "markdown",
   "id": "f72ed10a",
   "metadata": {},
   "source": [
    "# 토픽모델링\n",
    "## [Gensim](https://radimrehurek.com/gensim/) \n",
    "gensim 라이브러리를 활용합니다.  \n",
    "Anaconda Powershell Prompt를 관리자로 실행한 뒤  \n",
    "  \n",
    "**pip install gensim**  \n",
    "  \n",
    "입력합니다\n",
    "\n",
    "## [pyLDAvis](https://pyldavis.readthedocs.io/en/latest/readme.html)\n",
    "모델 시각화를 위해 pyLDAvis 라이브러리를 활용합니다.  \n",
    "Anaconda Powershell Prompt를 관리자로 실행한 뒤  \n",
    "  \n",
    "**pip install pyldavis**  \n",
    "  \n",
    "입력합니다"
   ]
  },
  {
   "cell_type": "code",
   "execution_count": null,
   "id": "e3c0435b",
   "metadata": {},
   "outputs": [],
   "source": []
  }
 ],
 "metadata": {
  "kernelspec": {
   "display_name": "Python 3 (ipykernel)",
   "language": "python",
   "name": "python3"
  },
  "language_info": {
   "codemirror_mode": {
    "name": "ipython",
    "version": 3
   },
   "file_extension": ".py",
   "mimetype": "text/x-python",
   "name": "python",
   "nbconvert_exporter": "python",
   "pygments_lexer": "ipython3",
   "version": "3.9.7"
  }
 },
 "nbformat": 4,
 "nbformat_minor": 5
}
