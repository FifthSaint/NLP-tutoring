{
 "cells": [
  {
   "cell_type": "markdown",
   "metadata": {},
   "source": [
    "# 워드클라우드(말구름) 그리기\n",
    "워드클라우드는 단어 단위로 정량적 수치를 산출한 뒤<br>\n",
    "그 기준 수치의 상대적 비중에 따라 글자 크기를 다르게 하여 그린 그림을 말합니다.<br>\n"
   ]
  },
  {
   "cell_type": "markdown",
   "metadata": {},
   "source": [
    "본 실습은 [**빅카인즈**](https://www.bigkinds.or.kr/) 데이터를 사용합니다.\n",
    "검색창에 자신의 관심 키워드를 입력하고 결과값을 확인합니다.<br>\n",
    "기본 검색 결과는 최근 3개월 동안 데이터베이스에 속한 언론 기사 가운데 해당 키워드가 속한 기사입니다.<br>\n",
    "데이터를 내려받고 실습 폴더로 파일을 옮깁니다"
   ]
  },
  {
   "cell_type": "code",
   "execution_count": null,
   "metadata": {},
   "outputs": [],
   "source": [
    "import numpy as np\n",
    "import pandas as pd #엑셀 데이터를 다루기 위한 Pandas 라이브러리\n",
    "from PIL import Image\n",
    "from wordcloud import WordCloud, ImageColorGenerator\n",
    "\n",
    "import matplotlib as mpl\n",
    "import matplotlib.pyplot as plt"
   ]
  },
  {
   "cell_type": "markdown",
   "metadata": {},
   "source": [
    "글자와 색 지정"
   ]
  },
  {
   "cell_type": "code",
   "execution_count": null,
   "metadata": {},
   "outputs": [],
   "source": [
    "# Font setting\n",
    "font_path = 'C:\\\\Windows\\\\Fonts\\\\malgun.TTF' #실습 컴퓨터의 폰트 폴더에서 실제 존재하고 선호하는 폰트 파일 이름 입력\n",
    "\n",
    "# Colormap\n",
    "cmap_B = plt.cm.GnBu(np.linspace(0,1,20))\n",
    "cmap_B = mpl.colors.ListedColormap(cmap_B[3:,:-1])\n",
    "\n",
    "cmap_R = mpl.pyplot.cm.YlOrRd(np.linspace(0,1,20))\n",
    "cmap_R = mpl.colors.ListedColormap(cmap_R[5:,:-1])"
   ]
  },
  {
   "cell_type": "markdown",
   "metadata": {},
   "source": [
    "데이터 읽기"
   ]
  },
  {
   "cell_type": "code",
   "execution_count": null,
   "metadata": {},
   "outputs": [],
   "source": [
    "File='data\\\\NewsResult_20211126-20220226.xlsx' #다운로드 받은 자신의 실제 파일이름을 입력\n",
    "\n",
    "df = pd.read_excel(File)"
   ]
  },
  {
   "cell_type": "code",
   "execution_count": null,
   "metadata": {},
   "outputs": [],
   "source": [
    "# 데이터를 살펴봅니다\n",
    "df.shape"
   ]
  },
  {
   "cell_type": "code",
   "execution_count": null,
   "metadata": {},
   "outputs": [],
   "source": [
    "df.head()"
   ]
  },
  {
   "cell_type": "code",
   "execution_count": null,
   "metadata": {},
   "outputs": [],
   "source": [
    "texts = df.values.T.tolist()[14] #15번째 열이 워드클라우드에 사용할 단어 데이터가 들어있음"
   ]
  },
  {
   "cell_type": "markdown",
   "metadata": {},
   "source": [
    "## 데이터 전처리\n",
    "빅카인즈 데이터의 장점 가운데 하나는 토큰화 과정을 마친 명사 데이터(키워드)를 제공한다는 점입니다<br>\n",
    "그러나 토큰화 외에 전처리 과정이 필요합니다"
   ]
  },
  {
   "cell_type": "markdown",
   "metadata": {},
   "source": [
    "### 데이터의 확인"
   ]
  },
  {
   "cell_type": "code",
   "execution_count": null,
   "metadata": {},
   "outputs": [],
   "source": [
    "texts[0] #리스트의 각 데이터가 하나의 긴 str 데이터임"
   ]
  },
  {
   "cell_type": "code",
   "execution_count": null,
   "metadata": {},
   "outputs": [],
   "source": [
    "terms = [str(x).split(',') for x in texts] #각각 나눠줌"
   ]
  },
  {
   "cell_type": "code",
   "execution_count": null,
   "metadata": {},
   "outputs": [],
   "source": [
    "terms[0]"
   ]
  },
  {
   "cell_type": "markdown",
   "metadata": {},
   "source": [
    "모두 하나의 Pool로 합침"
   ]
  },
  {
   "cell_type": "code",
   "execution_count": null,
   "metadata": {},
   "outputs": [],
   "source": [
    "tot_terms = list()\n",
    "for each_terms in terms:\n",
    "    tot_terms.extend(each_terms)"
   ]
  },
  {
   "cell_type": "code",
   "execution_count": null,
   "metadata": {},
   "outputs": [],
   "source": [
    "len(tot_terms)"
   ]
  },
  {
   "cell_type": "markdown",
   "metadata": {},
   "source": [
    "### 한 글자 단어와 영단어 제외"
   ]
  },
  {
   "cell_type": "code",
   "execution_count": null,
   "metadata": {},
   "outputs": [],
   "source": [
    "import re\n",
    "ref_terms = [x for x in tot_terms if (len(str(x))>1) and not re.match(r'[A-Za-z]+',str(x))]"
   ]
  },
  {
   "cell_type": "markdown",
   "metadata": {},
   "source": [
    "### 불용어 stopwords 제거"
   ]
  },
  {
   "cell_type": "code",
   "execution_count": null,
   "metadata": {},
   "outputs": [],
   "source": [
    "# remove stopwords v1.0\n",
    "stopwords = ['들이', '하면', '해서','생각','하지','하기','경우','그거','하게','정도',\n",
    "             '시간','어디','올해','이거','하나','어디','진짜','때문','해도','사실',\n",
    "             '이유','하루','작년','진짜','자신','이번','이상','한거','전화','시작',\n",
    "             '자체','우리','단어','설명', '바보', '당선인']\n",
    "ref_terms1 = [str(x) for x in ref_terms if x not in stopwords]"
   ]
  },
  {
   "cell_type": "markdown",
   "metadata": {},
   "source": [
    "### 정규화(normalize)\n",
    "\n",
    "빅카인즈의 토큰화를 신뢰한다고 가정하고 시간상 별도 확인을 하진 않습니다만  \n",
    "같은 단어로 구분되어야 할 여러 단어를 묶어 주는 정규화(normalization) 과정도 중요합니다."
   ]
  },
  {
   "cell_type": "markdown",
   "metadata": {},
   "source": [
    "## 빈도 테이블\n",
    "말뭉치에서 토큰(단어)별 빈도를 구하고 순위로 나열합니다"
   ]
  },
  {
   "cell_type": "code",
   "execution_count": null,
   "metadata": {},
   "outputs": [],
   "source": [
    "from collections import Counter\n",
    "\n",
    "freq1 = collections.Counter(ref_terms1)"
   ]
  },
  {
   "cell_type": "code",
   "execution_count": null,
   "metadata": {},
   "outputs": [],
   "source": [
    "freq1"
   ]
  },
  {
   "cell_type": "markdown",
   "metadata": {},
   "source": [
    "빈도가 높은 순으로 정렬하기"
   ]
  },
  {
   "cell_type": "code",
   "execution_count": null,
   "metadata": {},
   "outputs": [],
   "source": [
    "sorted_freq1 = sorted(freq1.items(), key=lambda item: item[1], reverse=True)\n",
    "dict_freq1 = {x[0]:x[1] for x in sorted_freq1}"
   ]
  },
  {
   "cell_type": "code",
   "execution_count": null,
   "metadata": {},
   "outputs": [],
   "source": [
    "dict_freq1"
   ]
  },
  {
   "cell_type": "markdown",
   "metadata": {},
   "source": [
    "### 말구름 그리기\n",
    "[wordcloud 라이브러리 documentation](https://amueller.github.io/word_cloud/index.html)"
   ]
  },
  {
   "cell_type": "code",
   "execution_count": null,
   "metadata": {},
   "outputs": [],
   "source": [
    "wordcloud = WordCloud(font_path=font_path,\n",
    "                      max_words=150,\n",
    "                      colormap=cmap_R, # color\n",
    "                      stopwords=stopwords,\n",
    "                      background_color='white',\n",
    "                      width=1000, height=1000).\n",
    "enerate_from_frequencies(dict_freq1)\n",
    "\n",
    "mpl.pyplot.figure(figsize=(10,10))\n",
    "mpl.pyplot.imshow(wordcloud, interpolation=\"bilinear\")\n",
    "mpl.pyplot.axis(\"off\")\n",
    "mpl.pyplot.show()"
   ]
  },
  {
   "cell_type": "markdown",
   "metadata": {},
   "source": [
    "## 추가: 모양이 있는 워드클라우드 그리기\n",
    "\n",
    "우선 모양을 딸 파일을 가져옵니다. 가급적이면 모양(흑)/배경(백)으로 명확하게 나누어져 있는 그림파일이 좋습니다"
   ]
  },
  {
   "cell_type": "code",
   "execution_count": null,
   "metadata": {},
   "outputs": [],
   "source": [
    "img = Image.open(\"img/hat.jpg\") #모양을 본 뜰 대상 이미지"
   ]
  },
  {
   "cell_type": "markdown",
   "metadata": {},
   "source": [
    "포맷에 대한 처리"
   ]
  },
  {
   "cell_type": "code",
   "execution_count": null,
   "metadata": {},
   "outputs": [],
   "source": [
    "# convert greyscale to RGB\n",
    "rgbimg = Image.new(\"RGBA\", img.size)\n",
    "rgbimg.paste(img)\n",
    "mask = np.array(rgbimg) #결과적으로 이 마스크에 모양에 대한 정보가 담깁니다"
   ]
  },
  {
   "cell_type": "code",
   "execution_count": null,
   "metadata": {},
   "outputs": [],
   "source": [
    "Shaped_WC = WordCloud(font_path=font_path,\n",
    "                    stopwords=stopwords,\n",
    "                    colormap=cmap_R,\n",
    "                    background_color=\"white\", \n",
    "                    mode=\"RGBA\", \n",
    "                    max_words=150,\n",
    "                    mask=mask, #마스크 파라미터가 여기에 쓰입니다\n",
    "                    relative_scaling=0.35,\n",
    "                    width=4000,height=4000).generate_from_frequencies(dict_freq)"
   ]
  },
  {
   "cell_type": "markdown",
   "metadata": {},
   "source": [
    "이후 그리기 및 출력 등은 위와 동일"
   ]
  }
 ],
 "metadata": {
  "kernelspec": {
   "display_name": "Python 3 (ipykernel)",
   "language": "python",
   "name": "python3"
  },
  "language_info": {
   "codemirror_mode": {
    "name": "ipython",
    "version": 3
   },
   "file_extension": ".py",
   "mimetype": "text/x-python",
   "name": "python",
   "nbconvert_exporter": "python",
   "pygments_lexer": "ipython3",
   "version": "3.9.7"
  }
 },
 "nbformat": 4,
 "nbformat_minor": 2
}
